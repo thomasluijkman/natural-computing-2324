{
 "cells": [
  {
   "cell_type": "code",
   "execution_count": 32,
   "metadata": {},
   "outputs": [],
   "source": [
    "positions_per_step = []\n",
    "order_params = []\n",
    "nearest_neighbour_distsances = []\n",
    "avg_dist = []\n",
    "\n",
    "filename = \"300_steps_default.txt\"\n",
    "\n",
    "with open(filename, \"r\") as f:\n",
    "    for line in f:\n",
    "        if(line.startswith(\"positions\")):\n",
    "            positions = [pos for pos in line[line.find(':')+1:].strip().split(\";\") if pos.startswith(\"(\") and pos.endswith(\")\")]\n",
    "            assert(len(positions) == 200)\n",
    "            positions = [(float(pos[1:-1].split(\",\")[0]), float(pos[1:-1].split(\",\")[1])) for pos in positions]\n",
    "            positions_per_step.append(positions)\n",
    "        elif(line.startswith(\"order_param\")):\n",
    "            order = float(line[line.index(\"(\")+1:line.index(\")\")].strip())\n",
    "            order_params.append(order)\n",
    "        elif(line.startswith(\"Nearest Neighbor Distances\")):\n",
    "            nns = [float(nn) for nn in line[line.index(\"[\")+1:line.index(\"]\")].strip().split(\",\") if len(nn) > 0]\n",
    "            assert(len(nns) == 200)\n",
    "            nearest_neighbour_distsances.append(nns)\n",
    "        elif(line.startswith(\"avg_dist\")):\n",
    "            avg = float(line[line.index(\":\")+1:line.index(\"boids\")].strip())\n",
    "            avg_dist.append(avg)\n",
    "        else:\n",
    "            raise Exception(f\"Unrecognised token at the start of the line: {line}\")"
   ]
  }
 ],
 "metadata": {
  "kernelspec": {
   "display_name": "Python 3",
   "language": "python",
   "name": "python3"
  },
  "language_info": {
   "codemirror_mode": {
    "name": "ipython",
    "version": 3
   },
   "file_extension": ".py",
   "mimetype": "text/x-python",
   "name": "python",
   "nbconvert_exporter": "python",
   "pygments_lexer": "ipython3",
   "version": "3.9.10"
  }
 },
 "nbformat": 4,
 "nbformat_minor": 2
}
